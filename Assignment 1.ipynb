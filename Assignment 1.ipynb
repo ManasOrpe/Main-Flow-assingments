{
 "cells": [
  {
   "cell_type": "markdown",
   "metadata": {},
   "source": [
    "# Main flow Services and Technologies\n",
    "## Assingment 1\n",
    "### Subject: Data Science  with  Python\n"
   ]
  },
  {
   "cell_type": "code",
   "execution_count": 21,
   "metadata": {},
   "outputs": [
    {
     "name": "stdout",
     "output_type": "stream",
     "text": [
      "after add element in list x is [1, 34, 5, 67, 88, 10, 54]\n",
      "after removing element from list x list is [1, 5, 67, 88, 10, 54]\n",
      "[2, 10, 134, 176, 20, 108]\n",
      "\n",
      "Original dictionary: {'a': 1, 'b': 2, 'c': 3}\n",
      "Dictionary after adding an element: {'a': 1, 'b': 2, 'c': 3, 'd': 4}\n",
      "Dictionary after removing an element: {'a': 1, 'c': 3, 'd': 4}\n",
      "Dictionary after modifying an element: {'a': 1, 'c': 10, 'd': 4}\n",
      "\n",
      "Original set: {1, 2, 3, 4, 5}\n",
      "Set after adding an element: {1, 2, 3, 4, 5, 6}\n",
      "Set after removing an element: {1, 2, 4, 5, 6}\n",
      "Set after modifying an element: {1, 2, 5, 6, 10}\n"
     ]
    }
   ],
   "source": [
    "##list operation\n",
    "x=[1,34,5,67,88,10]\n",
    "#add\n",
    "x.append(54)\n",
    "print(f\"after add element in list x is {x}\")\n",
    "#remove\n",
    "x.remove(34)\n",
    "print(f\"after removing element from list x list is {x}\")\n",
    "#multiply by two each element\n",
    "y=[]\n",
    "for i in x:\n",
    "    c=i*2\n",
    "    y.append(c)\n",
    "print(y)   \n",
    "###Dictionary operation \n",
    "my_dict = {\"a\": 1, \"b\": 2, \"c\": 3}\n",
    "print(\"\\nOriginal dictionary:\", my_dict)\n",
    "#adding\n",
    "my_dict[\"d\"] = 4\n",
    "print(\"Dictionary after adding an element:\", my_dict)\n",
    "#removing\n",
    "del my_dict[\"b\"]\n",
    "print(\"Dictionary after removing an element:\", my_dict)\n",
    "#modify\n",
    "my_dict[\"c\"] = 10\n",
    "print(\"Dictionary after modifying an element:\", my_dict)\n",
    "###set\n",
    "my_set = {1, 2, 3, 4, 5}\n",
    "print(\"\\nOriginal set:\", my_set)\n",
    "#add\n",
    "my_set.add(6)\n",
    "print(\"Set after adding an element:\", my_set)\n",
    "#remove\n",
    "my_set.remove(3)\n",
    "print(\"Set after removing an element:\", my_set)\n",
    "#modify\n",
    "my_set.remove(4)\n",
    "my_set.add(10)\n",
    "print(\"Set after modifying an element:\", my_set)\n",
    "\n"
   ]
  }
 ],
 "metadata": {
  "kernelspec": {
   "display_name": "Python 3",
   "language": "python",
   "name": "python3"
  },
  "language_info": {
   "codemirror_mode": {
    "name": "ipython",
    "version": 3
   },
   "file_extension": ".py",
   "mimetype": "text/x-python",
   "name": "python",
   "nbconvert_exporter": "python",
   "pygments_lexer": "ipython3",
   "version": "3.11.5"
  }
 },
 "nbformat": 4,
 "nbformat_minor": 2
}
